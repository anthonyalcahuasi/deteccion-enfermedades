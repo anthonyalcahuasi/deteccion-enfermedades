{
 "cells": [
  {
   "cell_type": "code",
   "execution_count": null,
   "id": "5df00351",
   "metadata": {
    "vscode": {
     "languageId": "plaintext"
    }
   },
   "outputs": [],
   "source": [
    "import tensorflow as tf\n",
    "import cv2\n",
    "import numpy as np\n",
    "from src.predict import preprocess, predict\n",
    "\n",
    "MODEL = tf.keras.models.load_model(\"results/checkpoint_ft.keras\")"
   ]
  },
  {
   "cell_type": "code",
   "execution_count": null,
   "id": "a580794d",
   "metadata": {
    "vscode": {
     "languageId": "plaintext"
    }
   },
   "outputs": [],
   "source": [
    "# 1) Carga y preprocess\n",
    "img = cv2.imread(\"data/processed/val/bean_rust/bean_rust_1.jpg\")\n",
    "img = cv2.cvtColor(img, cv2.COLOR_BGR2RGB)\n",
    "img = cv2.resize(img, (224,224))\n",
    "x = np.expand_dims(img/255.0,0)"
   ]
  },
  {
   "cell_type": "code",
   "execution_count": null,
   "id": "406e6b57",
   "metadata": {
    "vscode": {
     "languageId": "plaintext"
    }
   },
   "outputs": [],
   "source": [
    "# 2) Inferencia\n",
    "preds = MODEL.predict(x)\n",
    "idx = preds.argmax()\n",
    "conf = preds[0,idx]\n",
    "label = MODEL.class_names[idx] if hasattr(MODEL,\"class_names\") else idx\n",
    "print(f\"Predicción: {label} (conf: {conf:.2f})\")"
   ]
  },
  {
   "cell_type": "code",
   "execution_count": null,
   "id": "8cede9b6",
   "metadata": {
    "vscode": {
     "languageId": "plaintext"
    }
   },
   "outputs": [],
   "source": [
    "# 3) Simulación de API REST con Flask\n",
    "from flask import Flask, request, jsonify\n",
    "app = Flask(__name__)\n",
    "\n",
    "@app.route(\"/predict\", methods=[\"POST\"])\n",
    "def predict_api():\n",
    "    file = request.files[\"image\"]\n",
    "    data = file.read()\n",
    "    # reutiliza tu función preprocess de src/predict.py\n",
    "    x,_ = preprocess(data)\n",
    "    p = MODEL.predict(x)[0]\n",
    "    return jsonify({\"label\": int(p.argmax()), \"confidence\": float(p.max())})"
   ]
  },
  {
   "cell_type": "code",
   "execution_count": null,
   "id": "ea9599f0",
   "metadata": {
    "vscode": {
     "languageId": "plaintext"
    }
   },
   "outputs": [],
   "source": [
    "# Ejecuta:\n",
    "# app.run(host=\"0.0.0.0\", port=5000)"
   ]
  }
 ],
 "metadata": {
  "language_info": {
   "name": "python"
  }
 },
 "nbformat": 4,
 "nbformat_minor": 5
}
