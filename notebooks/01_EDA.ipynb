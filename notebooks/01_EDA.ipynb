{
 "cells": [
  {
   "cell_type": "code",
   "execution_count": null,
   "id": "19f2306c",
   "metadata": {
    "vscode": {
     "languageId": "plaintext"
    }
   },
   "outputs": [],
   "source": [
    "import os\n",
    "import pandas as pd\n",
    "import matplotlib.pyplot as plt\n",
    "from pathlib import Path\n",
    "\n",
    "DATA_DIR = Path(\"data/raw/train\")"
   ]
  },
  {
   "cell_type": "code",
   "execution_count": null,
   "id": "6eccadf5",
   "metadata": {
    "vscode": {
     "languageId": "plaintext"
    }
   },
   "outputs": [],
   "source": [
    "# 1. Conteo de imágenes por clase\n",
    "counts = {cls.name: len(list(cls.glob(\"*.jpg\"))) for cls in DATA_DIR.iterdir()}\n",
    "df_counts = pd.DataFrame.from_dict(counts, orient=\"index\", columns=[\"count\"])\n",
    "display(df_counts)"
   ]
  },
  {
   "cell_type": "code",
   "execution_count": null,
   "id": "f4bcdf24",
   "metadata": {
    "vscode": {
     "languageId": "plaintext"
    }
   },
   "outputs": [],
   "source": [
    "# 2. Histograma de balance\n",
    "df_counts.plot(kind=\"bar\", legend=False)\n",
    "plt.title(\"Distribución de muestras por clase\")\n",
    "plt.ylabel(\"Número de imágenes\")\n",
    "plt.show()"
   ]
  },
  {
   "cell_type": "code",
   "execution_count": null,
   "id": "ba6e33cb",
   "metadata": {
    "vscode": {
     "languageId": "plaintext"
    }
   },
   "outputs": [],
   "source": [
    "# 3. Visualización de ejemplos\n",
    "import cv2\n",
    "import numpy as np\n",
    "\n",
    "fig, axes = plt.subplots(3,3, figsize=(8,8))\n",
    "for ax, cls in zip(axes.flatten(), counts.keys()):\n",
    "    img_path = next(DATA_DIR/cls).glob(\"*.jpg\")\n",
    "    img = cv2.imread(str(img_path))\n",
    "    img = cv2.cvtColor(img, cv2.COLOR_BGR2RGB)\n",
    "    ax.imshow(img)\n",
    "    ax.set_title(cls)\n",
    "    ax.axis(\"off\")\n",
    "plt.tight_layout()"
   ]
  }
 ],
 "metadata": {
  "language_info": {
   "name": "python"
  }
 },
 "nbformat": 4,
 "nbformat_minor": 5
}
