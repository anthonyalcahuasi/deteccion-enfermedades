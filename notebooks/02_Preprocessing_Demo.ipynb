{
 "cells": [
  {
   "cell_type": "code",
   "execution_count": null,
   "id": "d20c06b1",
   "metadata": {
    "vscode": {
     "languageId": "plaintext"
    }
   },
   "outputs": [],
   "source": [
    "import os\n",
    "import cv2\n",
    "from pathlib import Path\n",
    "import matplotlib.pyplot as plt\n",
    "import tensorflow as tf\n",
    "\n",
    "RAW_TRAIN = Path(\"data/raw/train/healthy\")\n",
    "PROC_TRAIN = Path(\"data/processed/train/healthy\")\n",
    "PROC_TRAIN.mkdir(parents=True, exist_ok=True)"
   ]
  },
  {
   "cell_type": "code",
   "execution_count": null,
   "id": "1174017b",
   "metadata": {
    "vscode": {
     "languageId": "plaintext"
    }
   },
   "outputs": [],
   "source": [
    "# Funciones\n",
    "def preprocess_img(path):\n",
    "    img = cv2.imread(str(path))\n",
    "    img = cv2.cvtColor(img, cv2.COLOR_BGR2RGB)\n",
    "    img = cv2.resize(img, (224,224))\n",
    "    return img\n",
    "\n",
    "def augment_img(img):\n",
    "    aug = tf.keras.Sequential([\n",
    "        tf.keras.layers.RandomFlip(\"horizontal\"),\n",
    "        tf.keras.layers.RandomRotation(0.1),\n",
    "        tf.keras.layers.RandomZoom(0.1),\n",
    "    ])\n",
    "    return aug(tf.expand_dims(img/255.0,0))[0].numpy()"
   ]
  },
  {
   "cell_type": "code",
   "execution_count": null,
   "id": "54afcb5b",
   "metadata": {
    "vscode": {
     "languageId": "plaintext"
    }
   },
   "outputs": [],
   "source": [
    "# 1. Antes vs Después\n",
    "sample = list(RAW_TRAIN.glob(\"*.jpg\"))[0]\n",
    "orig = preprocess_img(sample)\n",
    "\n",
    "aug1 = augment_img(orig)\n",
    "aug2 = augment_img(orig)\n",
    "aug3 = augment_img(orig)\n",
    "\n",
    "fig, axs = plt.subplots(1,4, figsize=(12,4))\n",
    "axs[0].imshow(orig); axs[0].set_title(\"Original\"); axs[0].axis(\"off\")\n",
    "for i,img in enumerate([aug1,aug2,aug3],1):\n",
    "    axs[i].imshow(img); axs[i].set_title(f\"Aug {i}\"); axs[i].axis(\"off\")\n",
    "plt.show()"
   ]
  }
 ],
 "metadata": {
  "language_info": {
   "name": "python"
  }
 },
 "nbformat": 4,
 "nbformat_minor": 5
}
