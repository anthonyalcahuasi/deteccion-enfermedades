{
 "cells": [
  {
   "cell_type": "code",
   "execution_count": null,
   "id": "27c967e4",
   "metadata": {
    "vscode": {
     "languageId": "plaintext"
    }
   },
   "outputs": [],
   "source": [
    "import tensorflow as tf\n",
    "from model import build_model\n",
    "from tensorflow.keras.applications import MobileNetV2, EfficientNetB0\n",
    "from tensorflow.keras.optimizers import Adam\n",
    "\n",
    "def test_backbone(backbone_fn, lr):\n",
    "    # monta un modelo rápido para 1 época\n",
    "    model = backbone_fn(num_classes=3)\n",
    "    model.compile(optimizer=Adam(lr), loss=\"sparse_categorical_crossentropy\", metrics=[\"accuracy\"])\n",
    "    train_ds = tf.keras.preprocessing.image_dataset_from_directory(\"data/processed/train\", image_size=(224,224), batch_size=32)\n",
    "    val_ds   = tf.keras.preprocessing.image_dataset_from_directory(\"data/processed/val\",   image_size=(224,224), batch_size=32)\n",
    "    hist = model.fit(train_ds, validation_data=val_ds, epochs=1)\n",
    "    return hist.history[\"val_accuracy\"][-1]\n",
    "\n",
    "results = {}\n",
    "for fn,name in [(build_model,\"MobileNetV2\"), (lambda nc: build_model(nc, head_units=128), \"EffNetB0\")]:\n",
    "    for lr in [1e-3,1e-4]:\n",
    "        key = f\"{name}_lr{lr}\"\n",
    "        results[key] = test_backbone(fn, lr)\n",
    "import pandas as pd\n",
    "pd.Series(results).plot.bar()\n",
    "plt.ylabel(\"Val Accuracy\")\n",
    "plt.show()"
   ]
  }
 ],
 "metadata": {
  "language_info": {
   "name": "python"
  }
 },
 "nbformat": 4,
 "nbformat_minor": 5
}
