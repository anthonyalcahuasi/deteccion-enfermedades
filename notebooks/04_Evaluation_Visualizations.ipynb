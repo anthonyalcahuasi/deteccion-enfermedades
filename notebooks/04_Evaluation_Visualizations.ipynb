{
 "cells": [
  {
   "cell_type": "code",
   "execution_count": null,
   "id": "15729ecc",
   "metadata": {
    "vscode": {
     "languageId": "plaintext"
    }
   },
   "outputs": [],
   "source": [
    "import numpy as np\n",
    "import matplotlib.pyplot as plt\n",
    "from sklearn.metrics import confusion_matrix, classification_report\n",
    "import tensorflow as tf"
   ]
  },
  {
   "cell_type": "code",
   "execution_count": null,
   "id": "5d71edd2",
   "metadata": {
    "vscode": {
     "languageId": "plaintext"
    }
   },
   "outputs": [],
   "source": [
    "# Carga\n",
    "model = tf.keras.models.load_model(\"results/checkpoint_ft.keras\")\n",
    "val_ds = tf.keras.preprocessing.image_dataset_from_directory(\"data/processed/val\", image_size=(224,224), batch_size=32, shuffle=False)\n",
    "x,y = [],[]\n",
    "for xb,yb in val_ds:\n",
    "    x.append(xb.numpy()); y.append(yb.numpy())\n",
    "x = np.vstack(x); y = np.concatenate(y)\n",
    "preds = model.predict(x)\n",
    "y_pred = preds.argmax(axis=1)"
   ]
  },
  {
   "cell_type": "code",
   "execution_count": null,
   "id": "27f4cc47",
   "metadata": {
    "vscode": {
     "languageId": "plaintext"
    }
   },
   "outputs": [],
   "source": [
    "# 1. Classification report\n",
    "print(classification_report(y, y_pred, target_names=val_ds.class_names))"
   ]
  },
  {
   "cell_type": "code",
   "execution_count": null,
   "id": "7a3c7232",
   "metadata": {
    "vscode": {
     "languageId": "plaintext"
    }
   },
   "outputs": [],
   "source": [
    "# 2. Matriz de confusión\n",
    "cm = confusion_matrix(y, y_pred)\n",
    "plt.figure(figsize=(6,6))\n",
    "plt.imshow(cm, cmap=\"Blues\")\n",
    "plt.xticks(range(len(val_ds.class_names)), val_ds.class_names, rotation=45)\n",
    "plt.yticks(range(len(val_ds.class_names)), val_ds.class_names)\n",
    "for i in range(len(cm)):\n",
    "    for j in range(len(cm)):\n",
    "        plt.text(j,i,cm[i,j],ha=\"center\",va=\"center\",\n",
    "                 color=\"white\" if cm[i,j]>cm.max()/2 else \"black\")\n",
    "plt.title(\"Matriz de Confusión\")\n",
    "plt.show()"
   ]
  }
 ],
 "metadata": {
  "language_info": {
   "name": "python"
  }
 },
 "nbformat": 4,
 "nbformat_minor": 5
}
